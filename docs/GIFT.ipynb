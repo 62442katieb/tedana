{
 "cells": [
  {
   "cell_type": "code",
   "execution_count": 1,
   "metadata": {},
   "outputs": [
    {
     "name": "stderr",
     "output_type": "stream",
     "text": [
      "/usr/local/lib/python3.7/site-packages/sklearn/externals/joblib/__init__.py:15: DeprecationWarning: sklearn.externals.joblib is deprecated in 0.21 and will be removed in 0.23. Please import this functionality directly from joblib, which can be installed with: pip install joblib. If this warning is raised when loading pickled models, you may need to re-serialize those models with scikit-learn 0.21+.\n",
      "  warnings.warn(msg, category=DeprecationWarning)\n"
     ]
    }
   ],
   "source": [
    "import numpy as np\n",
    "import matplotlib.pyplot as plt\n",
    "from scipy import linalg\n",
    "from scipy.linalg import svd\n",
    "\n",
    "from sklearn.decomposition import PCA, FactorAnalysis\n",
    "from sklearn.covariance import ShrunkCovariance, LedoitWolf\n",
    "from sklearn.model_selection import cross_val_score\n",
    "from sklearn.model_selection import GridSearchCV\n",
    "\n",
    "from nilearn.masking import apply_mask\n",
    "from sklearn.preprocessing import StandardScaler\n",
    "%matplotlib inline\n",
    "import os.path as osp\n",
    "from scipy.signal import detrend\n",
    "import nibabel as nib\n",
    "from scipy.io import loadmat\n",
    "from scipy.fftpack import fft, fftshift, fftn\n",
    "from scipy.signal import correlate2d"
   ]
  },
  {
   "cell_type": "code",
   "execution_count": 2,
   "metadata": {},
   "outputs": [],
   "source": [
    "# pdb"
   ]
  },
  {
   "cell_type": "code",
   "execution_count": 15,
   "metadata": {},
   "outputs": [],
   "source": [
    "def autocorr(x):\n",
    "    result = numpy.correlate(x, x, mode='full')\n",
    "    return result[result.size / 2:]\n",
    "\n",
    "\n",
    "def sumN(dat):\n",
    "    # sum of the all elements of the dat matrix\n",
    "    return np.sum(dat[:])\n",
    "\n",
    "\n",
    "def checkOrder(n_in):\n",
    "    # CHECKORDER Checks the order passed to the window functions.\n",
    "\n",
    "    w = []\n",
    "    trivalwin = 0\n",
    "\n",
    "    # Special case of negative orders:\n",
    "    if n_in < 0:\n",
    "        print('ERROR!!!! Order cannot be less than zero.')\n",
    "\n",
    "    # Check if order is already an integer or empty\n",
    "    # If not, round to nearest integer.\n",
    "    if not n_in or n_in == np.floor(n_in):\n",
    "        n_out = n_in\n",
    "    else:\n",
    "        n_out = np.round(n_in)\n",
    "        print('WARNING: Rounding order to nearest integer.')\n",
    "\n",
    "    # Special cases:\n",
    "    if not n_out or n_out == 0:\n",
    "        w = np.zeros((0, 1))  # Empty matrix: 0-by-1\n",
    "        trivalwin = 1\n",
    "    elif n_out == 1:\n",
    "        w = 1\n",
    "        trivalwin = 1\n",
    "\n",
    "    return n_out, w, trivalwin\n",
    "\n",
    "\n",
    "def parzen_win(n):\n",
    "    # PARZENWIN Parzen window.\n",
    "    # PARZENWIN(N) returns the N-point Parzen (de la Valle-Poussin) window in\n",
    "    # a column vector.\n",
    "\n",
    "    # Check for valid window length (i.e., n < 0)\n",
    "    n, w, trivialwin = checkOrder(n)\n",
    "    if trivialwin:\n",
    "        return w\n",
    "\n",
    "    # Index vectors\n",
    "    k = np.arange(-(n - 1) / 2, ((n - 1) / 2) + 1)\n",
    "    k1 = k[k < -(n - 1) / 4]\n",
    "    k2 = k[abs(k) <= (n - 1) / 4]\n",
    "\n",
    "    # Equation 37 of [1]: window defined in three sections\n",
    "    w1 = 2 * (1 - abs(k1) / (n / 2))**3\n",
    "    w2 = 1 - 6 * (abs(k2) / (n / 2))**2 + 6 * (abs(k2) / (n / 2))**3\n",
    "    w = np.hstack((w1, w2, w1[::-1])).T\n",
    "\n",
    "    return w\n",
    "\n",
    "\n",
    "def entrate_sp(x, sm_window):\n",
    "\n",
    "    # Calculate the entropy rate of a stationary Gaussian random process using\n",
    "    # spectrum estimation with smoothing window\n",
    "\n",
    "    n = x.shape\n",
    "\n",
    "    # Normalize x_sb to be unit variance\n",
    "    x_std = np.std(np.reshape(x, (np.prod(n), 1)))\n",
    "    if x_std < 1e-10:\n",
    "        x_std = 1e-10\n",
    "    x = x / x_std\n",
    "\n",
    "    if (sm_window == 1):\n",
    "\n",
    "        M = [int(i) for i in np.ceil(np.array(n) / 10)]\n",
    "\n",
    "        if (x.ndim >= 3):\n",
    "            parzen_w_3 = np.zeros((2 * n[2] - 1, ))\n",
    "            parzen_w_3[(n[2] - M[2] - 1):(n[2] + M[2])] = parzen_win(2 * M[2] + 1)\n",
    "\n",
    "        if (x.ndim >= 2):\n",
    "            parzen_w_2 = np.zeros((2 * n[1] - 1, ))\n",
    "            parzen_w_2[(n[1] - M[1] - 1):(n[1] + M[1])] = parzen_win(2 * M[1] + 1)\n",
    "\n",
    "        if (x.ndim >= 1):\n",
    "            parzen_w_1 = np.zeros((2 * n[0] - 1, ))\n",
    "            parzen_w_1[(n[0] - M[0] - 1):(n[0] + M[0])] = parzen_win(2 * M[0] + 1)\n",
    "\n",
    "    if x.ndim == 2 and min(n) == 1:  # 1D\n",
    "        xc = autocorr(x)\n",
    "        xc = xc * parzen_w\n",
    "        xf = fftshift(fft(xc))\n",
    "\n",
    "    elif x.ndim == 2 and min(n) != 1:  # 2D\n",
    "        xc = autocorr(x)  # default option: computes raw correlations with NO\n",
    "        # normalization -- Matlab help on xcorr\n",
    "\n",
    "        # Bias correction\n",
    "        v1 = np.hstack((np.arange(1, n[0] + 1), np.arange(n[0] - 1, 0, -1)))[np.newaxis, :]\n",
    "        v2 = np.hstack((np.arange(1, n[1] + 1), np.arange(n[1] - 1, 0, -1)))[np.newaxis, :]\n",
    "\n",
    "        vd = np.dot(v1.T, v2)\n",
    "        xc = xc / vd\n",
    "        parzen_window_2D = np.dot(parzen_w_1, parzen_w_2.T)\n",
    "        xc = xc * parzen_window_2D\n",
    "        xf = fftshift(fft2(xc))\n",
    "\n",
    "    elif x.ndim == 3 and min(n) != 1:  # 3D\n",
    "        xc = np.zeros((2*n[0]-1, 2*n[1]-1, 2*n[2]-1))\n",
    "        for m3 in range(n[2] - 1):\n",
    "            temp = np.zeros((2*n[0]-1, 2*n[1]-1))\n",
    "            for k in range(n[2] - m3):\n",
    "                temp = temp + correlate2d(x[:, :, k + m3], x[:, :, k])\n",
    "                # default option:\n",
    "                # computes raw correlations with NO normalization\n",
    "                # -- Matlab help on xcorr\n",
    "            xc[:, :, (n[2] - 1) - m3] = temp\n",
    "            xc[:, :, (n[2] - 1) + m3] = temp\n",
    "\n",
    "        # Bias correction\n",
    "        v1 = np.hstack((np.arange(1, n[0] + 1), np.arange(n[0] - 1, 0, -1)))[np.newaxis, :]\n",
    "        v2 = np.hstack((np.arange(1, n[1] + 1), np.arange(n[1] - 1, 0, -1)))[np.newaxis, :]\n",
    "        v3 = np.arange(n[2], 0, -1)\n",
    "\n",
    "        vd = np.dot(v1.T, v2)\n",
    "        vcu = np.zeros((2*n[0]-1, 2*n[1]-1, 2*n[2]-1))\n",
    "        for m3 in range(n[2]):\n",
    "            vcu[:, :, (n[2] - 1) - m3] = vd * v3[m3]\n",
    "            vcu[:, :, (n[2] - 1) + m3] = vd * v3[m3]\n",
    "        \n",
    "        # Possible source of NAN values\n",
    "        xc = xc / vcu\n",
    "\n",
    "        parzen_window_2D = np.dot(parzen_w_1[np.newaxis, :].T, parzen_w_2[np.newaxis, :])\n",
    "        parzen_window_3D = np.zeros((2*n[0]-1, 2*n[1]-1, 2*n[2]-1))\n",
    "        for m3 in range(n[2] - 1):\n",
    "            parzen_window_3D[:, :, (n[2] - 1) - m3] = np.dot(parzen_window_2D, parzen_w_3[n[2] - 1 - m3])\n",
    "            parzen_window_3D[:, :, (n[2] - 1) + m3] = np.dot(parzen_window_2D, parzen_w_3[n[2] - 1 + m3])\n",
    "\n",
    "        xc = xc * parzen_window_3D\n",
    "\n",
    "        xf = fftshift(fftn(xc))\n",
    "\n",
    "    else:\n",
    "\n",
    "        print('ERROR!!!!! Unrecognized matrix dimension.')\n",
    "\n",
    "    xf = abs(xf)\n",
    "    xf[xf < 1e-4] = 1e-4\n",
    "    out = 0.5 * np.log(2 * np.pi * np.exp(1)) + sumN(np.log(abs(\n",
    "        (xf)))) / 2 / sumN(abs(xf))\n",
    "\n",
    "    return out\n",
    "\n",
    "\n",
    "def est_indp_sp(x):\n",
    "\n",
    "    dimv = x.shape\n",
    "    s0 = 0\n",
    "\n",
    "    for j in range(np.min(dimv) - 1):\n",
    "        x_sb = subsampling(x, j+1, [0, 0, 0])\n",
    "        if j == 0:\n",
    "            print('Estimating the entropy rate of the Gaussian component with subsampling depth {},'.format(j))\n",
    "        else:\n",
    "            print(' {},'.format(j))\n",
    "        \n",
    "        entrate_m = entrate_sp(x_sb, 1)\n",
    "\n",
    "        ent_ref = 1.41\n",
    "        if entrate_m > ent_ref:\n",
    "            s0 = j\n",
    "            break\n",
    "\n",
    "    print(' Done;')\n",
    "    if s0 == 0:\n",
    "        print('ERROR!!!!! Ill conditioned data, can not estimate independent samples.(est_indp_sp)')\n",
    "    else:\n",
    "        s = s0\n",
    "\n",
    "    return s, entrate_m"
   ]
  },
  {
   "cell_type": "code",
   "execution_count": 4,
   "metadata": {},
   "outputs": [],
   "source": [
    "def subsampling(x,s,x0):\n",
    "# Subsampling the data evenly with space 's'\n",
    "\n",
    "    n = x.shape\n",
    "\n",
    "    if x.ndim == 2 and np.min(n) == 1:  # 1D\n",
    "        out = x[np.arange(x0[0], np.max(n), s)]\n",
    "    \n",
    "    elif x.ndim == 2 and np.min(n) != 1:  # 2D\n",
    "        out = x[np.arange(x0[0], n[0], s),:][:,np.arange(x0[1], n[1], s)]\n",
    "    \n",
    "    elif x.ndim == 3 and np.min(n) != 1:  # 3D\n",
    "        out = x[np.arange(x0[0], n[0], s),:,:][:,np.arange(x0[1], n[1], s),:][:,:,np.arange(x0[2], n[2], s)]\n",
    "    \n",
    "    else:\n",
    "        print('ERROR!!!! Unrecognized matrix dimension!(subsampling)');\n",
    "    \n",
    "    return out"
   ]
  },
  {
   "cell_type": "code",
   "execution_count": 5,
   "metadata": {},
   "outputs": [],
   "source": [
    "def kurtn(x):\n",
    "\n",
    "    kurt = np.zeros((x.shape[1],1))\n",
    "\n",
    "    for i in range(x.shape[1]):\n",
    "        a = detrend(x[:, i], type='constant')\n",
    "        a = a/np.std(a)\n",
    "        kurt[i] = np.mean(a**4) - 3\n",
    "\n",
    "    return kurt"
   ]
  },
  {
   "cell_type": "code",
   "execution_count": 6,
   "metadata": {},
   "outputs": [],
   "source": [
    "def icatb_svd(data,numpc):\n",
    "    _, Lambda, vh = svd(data)\n",
    "    # Sort eigen vectors in Ascending order\n",
    "    V = vh.T\n",
    "    Lambda = Lambda / np.sqrt(data.shape[0] - 1) # Whitening (sklearn)\n",
    "    inds = np.argsort(np.power(Lambda,2))\n",
    "    Lambda = np.power(Lambda, 2)[inds]\n",
    "    V = V[:, inds]\n",
    "    sumAll = np.sum(Lambda)\n",
    "    \n",
    "    # Return only the extracted components\n",
    "    V = V[:, (V.shape[1]-numpc):]\n",
    "    Lambda = Lambda[Lambda.shape[0]-numpc:]\n",
    "    sumUsed = np.sum(Lambda)\n",
    "    retained = (sumUsed/sumAll)*100\n",
    "    print('{ret}% of non-zero eigenvalues retained'.format(ret=retained))\n",
    "    \n",
    "    return V,Lambda"
   ]
  },
  {
   "cell_type": "code",
   "execution_count": 7,
   "metadata": {},
   "outputs": [],
   "source": [
    "# PATH DATA\n",
    "MASK_Path = '/Users/enekourunuela/tedana/docs/data/GIFT_mask.nii'\n",
    "OC_Path   = '/Users/enekourunuela/tedana/docs/data/sbj.OCTS.nii'"
   ]
  },
  {
   "cell_type": "code",
   "execution_count": 8,
   "metadata": {},
   "outputs": [
    {
     "name": "stdout",
     "output_type": "stream",
     "text": [
      "(41, 52, 28, 160)\n",
      "(41, 52, 28)\n"
     ]
    },
    {
     "data": {
      "text/plain": [
       "(24586, 160)"
      ]
     },
     "execution_count": 8,
     "metadata": {},
     "output_type": "execute_result"
    }
   ],
   "source": [
    "# LOAD DATA\n",
    "data_nib = nib.load(OC_Path).get_data()\n",
    "mask_nib = nib.load(MASK_Path).get_data()\n",
    "print(data_nib.shape)\n",
    "print(mask_nib.shape)\n",
    "[Nx,Ny,Nz,Nt] = data_nib.shape\n",
    "data_nib_V = np.reshape(data_nib,(Nx*Ny*Nz,Nt), order='F')\n",
    "maskvec = np.reshape(mask_nib,Nx*Ny*Nz, order='F')\n",
    "DATA = data_nib_V[maskvec==1,:]\n",
    "DATA.shape"
   ]
  },
  {
   "cell_type": "code",
   "execution_count": 9,
   "metadata": {},
   "outputs": [],
   "source": [
    "scaler = StandardScaler(with_mean=True, with_std=True)\n",
    "data   = scaler.fit_transform(DATA) # This was X_sc"
   ]
  },
  {
   "cell_type": "code",
   "execution_count": 10,
   "metadata": {},
   "outputs": [],
   "source": [
    "# SVD\n",
    "numpc = Nt\n",
    "_, Lambda, vh = svd(data)\n",
    "# Sort eigen vectors in Ascending order\n",
    "V = vh.T\n",
    "Lambda = Lambda / np.sqrt(data.shape[0] - 1) # Whitening (sklearn)\n",
    "inds = np.argsort(np.power(Lambda,2))\n",
    "Lambda = np.power(Lambda, 2)[inds]\n",
    "V = V[:, inds]\n",
    "sumAll = np.sum(Lambda)"
   ]
  },
  {
   "cell_type": "code",
   "execution_count": 11,
   "metadata": {},
   "outputs": [
    {
     "name": "stdout",
     "output_type": "stream",
     "text": [
      "100.0% of non-zero eigenvalues retained\n"
     ]
    }
   ],
   "source": [
    "# Return only the extracted components\n",
    "V = V[:, (V.shape[1]-numpc):]\n",
    "Lambda = Lambda[Lambda.shape[0]-numpc:]\n",
    "sumUsed = np.sum(Lambda)\n",
    "retained = (sumUsed/sumAll)*100\n",
    "print('{ret}% of non-zero eigenvalues retained'.format(ret=retained))"
   ]
  },
  {
   "cell_type": "code",
   "execution_count": 12,
   "metadata": {},
   "outputs": [],
   "source": [
    "# Renaming to follow GIFT code in MATLAB\n",
    "EigenValues = Lambda\n",
    "EigenValues = EigenValues[::-1]\n",
    "dataN = np.dot(data, V[:, ::-1])\n",
    "# Potentially the small differences come from the different signs on V"
   ]
  },
  {
   "cell_type": "code",
   "execution_count": 13,
   "metadata": {},
   "outputs": [
    {
     "name": "stderr",
     "output_type": "stream",
     "text": [
      "/usr/local/lib/python3.7/site-packages/ipykernel_launcher.py:11: DeprecationWarning: The truth value of an empty array is ambiguous. Returning False, but in future this will result in an error. Use `array.size > 0` to check that an array is not empty.\n",
      "  # This is added back by InteractiveShellApp.init_path()\n"
     ]
    }
   ],
   "source": [
    "# Using 12 gaussian components from middle, top and bottom gaussian components to determine the subsampling depth. Final subsampling depth is determined using median\n",
    "kurtv1 = kurtn(dataN)\n",
    "kurtv1[EigenValues > np.mean(EigenValues)] = 1000\n",
    "idx_gauss = np.where(((kurtv1[:,0] < 0.3) * (EigenValues > np.finfo(float).eps)) == 1)[0] # DOUBT: make sure np.where is giving us just one tuple\n",
    "idx = np.array(idx_gauss[:]).T\n",
    "dfs = len(np.where(EigenValues > np.finfo(float).eps)[0]) # degrees of freedom\n",
    "minTp = 12\n",
    "if (len(idx) >= minTp):\n",
    "    middle = int(np.round(len(idx)/2))\n",
    "    idx = np.hstack([idx[0:4],idx[middle-1:middle+3],idx[-4:]])\n",
    "elif not idx:\n",
    "    minTp = np.min([minTp, dfs])\n",
    "    idx = np.arange(dfs - minTp, dfs)\n",
    "    \n",
    "idx = np.unique(idx)"
   ]
  },
  {
   "cell_type": "code",
   "execution_count": 18,
   "metadata": {},
   "outputs": [
    {
     "name": "stdout",
     "output_type": "stream",
     "text": [
      "Estimating the entropy rate of the Gaussian component with subsampling depth 0,\n",
      " 1,\n",
      " Done;\n",
      "Estimating the entropy rate of the Gaussian component with subsampling depth 0,\n",
      " 1,\n",
      " Done;\n",
      "Estimating the entropy rate of the Gaussian component with subsampling depth 0,\n",
      " 1,\n",
      " Done;\n",
      "Estimating the entropy rate of the Gaussian component with subsampling depth 0,\n",
      " 1,\n",
      " Done;\n",
      "Estimating the entropy rate of the Gaussian component with subsampling depth 0,\n",
      " 1,\n",
      " Done;\n",
      "Estimating the entropy rate of the Gaussian component with subsampling depth 0,\n",
      " 1,\n",
      " Done;\n",
      "Estimating the entropy rate of the Gaussian component with subsampling depth 0,\n",
      " 1,\n",
      " Done;\n",
      "Estimating the entropy rate of the Gaussian component with subsampling depth 0,\n",
      " 1,\n",
      " Done;\n"
     ]
    }
   ],
   "source": [
    "# Estimate the subsampling depth for effectively i.i.d. samples\n",
    "mask_ND = np.reshape(maskvec, (Nx, Ny, Nz), order='F')\n",
    "ms = len(idx)\n",
    "s = np.zeros((ms,))\n",
    "for i in range(ms):\n",
    "    x_single = np.zeros(Nx*Ny*Nz)\n",
    "    x_single[maskvec==1] = dataN[:,idx[i]]\n",
    "    x_single = np.reshape(x_single,(Nx,Ny,Nz),order='F')\n",
    "    s[i] = est_indp_sp(x_single)[0]\n",
    "    if i > 6:\n",
    "        tmpS       = s[0:i]\n",
    "        tmpSMedian = np.round(np.median(tmpS))\n",
    "        if np.sum(tmpS == tmpSMedian) > 6:\n",
    "            s = tmpS\n",
    "            break\n",
    "    dim_n = x_single.ndim\n",
    "s1 = int(np.round(np.median(s)))\n",
    "if np.floor(np.power(np.sum(maskvec)/Nt,1/dim_n)) < s1:\n",
    "    s1 = int(np.floor(np.power(np.sum(maskvec)/Nt,1/dim_n)))\n",
    "N = np.round(np.sum(maskvec)/np.power(s1,dim_n))"
   ]
  },
  {
   "cell_type": "code",
   "execution_count": 19,
   "metadata": {},
   "outputs": [
    {
     "name": "stdout",
     "output_type": "stream",
     "text": [
      "Perform EVD on the effectively i.i.d. samples ...\n",
      " Effective number of i.i.d. samples 24586\n"
     ]
    }
   ],
   "source": [
    "# Use the subsampled dataset to calculate eigen values\n",
    "print('Perform EVD on the effectively i.i.d. samples ...')\n",
    "\n",
    "if s1 != 1:\n",
    "    mask_s    = subsampling(mask_ND,s1,[0,0,0])\n",
    "    mask_s_1d = np.reshape(mask_s,np.prod(mask_s.shape),order='F')\n",
    "    dat       = np.zeros((int(np.sum(mask_s_1d)),Nt))\n",
    "    for i in range(Nt):\n",
    "        x_single                = np.zeros((Nx*Ny*Nz,))\n",
    "        x_single[maskvec==1]    = data[:,i]\n",
    "        x_single                = np.reshape(x_single,(Nx,Ny,Nz),order='F')\n",
    "        dat0                    = subsampling(x_single,s1,[0,0,0])\n",
    "        dat0                    = np.reshape(dat0,np.prod(dat0.shape),order='F')\n",
    "        dat[:,i]                = dat0[mask_s_1d==1]\n",
    "        \n",
    "    # Perform Variance Normalization\n",
    "    dat  = scaler.fit_transform(dat)\n",
    "    \n",
    "    # (completed)\n",
    "    print('P2:')\n",
    "    [V, EigenValues] = icatb_svd(dat, Nt)\n",
    "    EigenValues = EigenValues[::-1]\n",
    "    \n",
    "lam = EigenValues\n",
    "print(' Effective number of i.i.d. samples %d' % N)"
   ]
  },
  {
   "cell_type": "code",
   "execution_count": null,
   "metadata": {},
   "outputs": [],
   "source": []
  },
  {
   "cell_type": "code",
   "execution_count": null,
   "metadata": {},
   "outputs": [],
   "source": []
  },
  {
   "cell_type": "code",
   "execution_count": null,
   "metadata": {},
   "outputs": [],
   "source": []
  },
  {
   "cell_type": "code",
   "execution_count": null,
   "metadata": {},
   "outputs": [],
   "source": []
  },
  {
   "cell_type": "code",
   "execution_count": null,
   "metadata": {},
   "outputs": [],
   "source": []
  },
  {
   "cell_type": "code",
   "execution_count": null,
   "metadata": {},
   "outputs": [],
   "source": []
  },
  {
   "cell_type": "code",
   "execution_count": null,
   "metadata": {},
   "outputs": [],
   "source": []
  },
  {
   "cell_type": "code",
   "execution_count": null,
   "metadata": {},
   "outputs": [],
   "source": []
  },
  {
   "cell_type": "code",
   "execution_count": null,
   "metadata": {},
   "outputs": [],
   "source": []
  },
  {
   "cell_type": "code",
   "execution_count": null,
   "metadata": {},
   "outputs": [],
   "source": []
  },
  {
   "cell_type": "code",
   "execution_count": 21,
   "metadata": {},
   "outputs": [
    {
     "name": "stdout",
     "output_type": "stream",
     "text": [
      "0.8451662842274329\n"
     ]
    }
   ],
   "source": [
    "#eigensp_adj (309)\n",
    "n = N\n",
    "p = EigenValues.shape[0]\n",
    "r = p/n\n",
    "bp = np.power((1+np.sqrt(r)),2)\n",
    "bm = np.power((1-np.sqrt(r)),2)\n",
    "vv_step = (bp-bm)/(5*p-1)\n",
    "vv = np.arange(bm,bp+vv_step,vv_step)\n",
    "gv = (1/(2*np.pi*r*vv)) * np.sqrt(abs((vv-bm)*(bp-vv)))\n",
    "gvd = np.zeros(gv.shape)\n",
    "for i in range(gv.shape[0]):\n",
    "    gvd[i] = sum(gv[0:i])\n",
    "    \n",
    "gvd = gvd/np.max(gvd)\n",
    "\n",
    "lam_emp = np.zeros(lam.shape)\n",
    "for i in range(p):\n",
    "    i_norm = i/p\n",
    "    minx = np.argmin(abs(i_norm-gvd))\n",
    "    lam_emp[i] = vv[minx]\n",
    "\n",
    "lam_emp = rot90(lam_emp, 2)\n",
    "\n",
    "lam_adj = lam/lam_emp"
   ]
  },
  {
   "cell_type": "code",
   "execution_count": 61,
   "metadata": {},
   "outputs": [],
   "source": [
    "gv = (1/(2*np.pi*r*vv)) * np.sqrt(abs((vv-bm)*(bp-vv)))\n",
    "gvd = np.zeros(gv.shape)"
   ]
  },
  {
   "cell_type": "code",
   "execution_count": 62,
   "metadata": {},
   "outputs": [
    {
     "data": {
      "text/plain": [
       "(800,)"
      ]
     },
     "execution_count": 62,
     "metadata": {},
     "output_type": "execute_result"
    }
   ],
   "source": [
    "gv.shape"
   ]
  },
  {
   "cell_type": "code",
   "execution_count": null,
   "metadata": {},
   "outputs": [],
   "source": [
    "gv = 1./(2*pi*r*vv).*sqrt((vv-bm).*(bp-vv))"
   ]
  },
  {
   "cell_type": "code",
   "execution_count": 51,
   "metadata": {},
   "outputs": [
    {
     "name": "stderr",
     "output_type": "stream",
     "text": [
      "/opt/anaconda3/envs/tedana-hack/lib/python3.6/site-packages/ipykernel_launcher.py:1: RuntimeWarning: invalid value encountered in sqrt\n",
      "  \"\"\"Entry point for launching an IPython kernel.\n"
     ]
    },
    {
     "data": {
      "text/plain": [
       "nan"
      ]
     },
     "execution_count": 51,
     "metadata": {},
     "output_type": "execute_result"
    }
   ],
   "source": [
    "np.sqrt(-2.47251400e-14)"
   ]
  },
  {
   "cell_type": "code",
   "execution_count": null,
   "metadata": {},
   "outputs": [],
   "source": [
    "def eigensp_adj(lam,n,p):\n",
    "    r = p/n\n",
    "    \n",
    "    bp = np.power((1+np.sqrt(r)),2)\n",
    "    bm = np.power((1-np.sqrt(r)),2)\n",
    "    \n",
    "    \n",
    "    \n",
    "    return lam_adj"
   ]
  },
  {
   "cell_type": "code",
   "execution_count": null,
   "metadata": {},
   "outputs": [],
   "source": [
    "function lam_adj = eigensp_adj(lam,n,p)\n",
    "% Eigen spectrum adjustment for EVD on finite samples\n",
    "\n",
    "r = p/n;\n",
    "\n",
    "bp = (1+sqrt(r))^2;\n",
    "bm = (1-sqrt(r))^2;\n",
    "\n",
    "vv = [bm:(bp-bm)/(5*p-1):bp];\n",
    "\n",
    "gv = 1./(2*pi*r*vv).*sqrt((vv-bm).*(bp-vv));\n",
    "\n",
    "gvd = zeros(size(gv));\n",
    "for i = 1:length(gv)\n",
    "    gvd(i) = sum(gv(1:i));\n",
    "end\n",
    "gvd = gvd/max(gvd);\n",
    "\n",
    "lam_emp = zeros(size(lam));\n",
    "for i = 1:p\n",
    "    i_norm = i/p;\n",
    "    [minv,minx] = min(abs(i_norm-gvd));\n",
    "    lam_emp(i) = vv(minx);\n",
    "end\n",
    "\n",
    "lam_emp = rot90(lam_emp, 2);\n",
    "\n",
    "lam_adj = lam./lam_emp;"
   ]
  },
  {
   "cell_type": "code",
   "execution_count": 17,
   "metadata": {},
   "outputs": [],
   "source": [
    "# Make eigen spectrum adjustment\n",
    "print(' Perform eigen spectrum adjustment ...')\n",
    "lam = eigensp_adj(lam, N, length(lam));"
   ]
  },
  {
   "cell_type": "code",
   "execution_count": 18,
   "metadata": {},
   "outputs": [
    {
     "name": "stdout",
     "output_type": "stream",
     "text": [
      "100.0% of non-zero eigenvalues retained\n"
     ]
    }
   ],
   "source": [
    "print('P2:')\n",
    "[V, EigenValues] = icatb_svd(dat, Nt)\n",
    "EigenValues = EigenValues[::-1]"
   ]
  },
  {
   "cell_type": "code",
   "execution_count": 20,
   "metadata": {},
   "outputs": [
    {
     "data": {
      "text/plain": [
       "array([1.59979250e+02, 4.20888454e-02, 6.46422900e-03, 4.67639325e-03,\n",
       "       2.61807413e-03, 2.51092920e-03, 1.70194562e-03, 1.34915374e-03,\n",
       "       9.31375489e-04, 8.32087180e-04, 7.64005948e-04, 6.59946109e-04,\n",
       "       5.18911647e-04, 4.71221549e-04, 4.19183571e-04, 4.02188504e-04,\n",
       "       3.10550991e-04, 3.00879491e-04, 2.83793360e-04, 2.59717967e-04,\n",
       "       2.31474156e-04, 2.22881701e-04, 2.09583134e-04, 1.61945234e-04,\n",
       "       1.57916638e-04, 1.53905018e-04, 1.34948313e-04, 1.26360672e-04,\n",
       "       1.22180363e-04, 1.12150334e-04, 1.07587022e-04, 1.05477193e-04,\n",
       "       9.79176761e-05, 9.32848961e-05, 8.57886449e-05, 8.54593180e-05,\n",
       "       8.25672011e-05, 7.79111767e-05, 7.39613576e-05, 7.08517622e-05,\n",
       "       6.98959200e-05, 6.86650549e-05, 6.63949599e-05, 6.20013219e-05,\n",
       "       6.08225548e-05, 5.97321849e-05, 5.84065686e-05, 5.57416123e-05,\n",
       "       5.36666895e-05, 5.28873411e-05, 5.09026890e-05, 4.94383985e-05,\n",
       "       4.63258299e-05, 4.48996790e-05, 4.38278844e-05, 4.27373519e-05,\n",
       "       4.22160677e-05, 4.08588220e-05, 4.07063024e-05, 3.95948296e-05,\n",
       "       3.87398477e-05, 3.81265898e-05, 3.72305219e-05, 3.67087912e-05,\n",
       "       3.55353081e-05, 3.43749758e-05, 3.36822305e-05, 3.32025670e-05,\n",
       "       3.25751850e-05, 3.17160135e-05, 3.09433114e-05, 3.05620695e-05,\n",
       "       3.01659817e-05, 3.00426042e-05, 2.94974518e-05, 2.91620498e-05,\n",
       "       2.81981972e-05, 2.78962094e-05, 2.77364625e-05, 2.73879139e-05,\n",
       "       2.70695416e-05, 2.64484698e-05, 2.59062540e-05, 2.57978187e-05,\n",
       "       2.51114481e-05, 2.50083071e-05, 2.40772340e-05, 2.40149328e-05,\n",
       "       2.35283260e-05, 2.33170302e-05, 2.27907171e-05, 2.23529377e-05,\n",
       "       2.21559105e-05, 2.15447132e-05, 2.13023583e-05, 2.05926999e-05,\n",
       "       2.05109955e-05, 2.04542322e-05, 1.97444333e-05, 1.94056851e-05,\n",
       "       1.93859290e-05, 1.90618511e-05, 1.89431540e-05, 1.84953771e-05,\n",
       "       1.80799787e-05, 1.77185460e-05, 1.73609840e-05, 1.72073990e-05,\n",
       "       1.69744350e-05, 1.65266750e-05, 1.60126403e-05, 1.59137805e-05,\n",
       "       1.55966088e-05, 1.53477275e-05, 1.48035400e-05, 1.45025987e-05,\n",
       "       1.41180821e-05, 1.37861544e-05, 1.33147241e-05, 1.30784724e-05,\n",
       "       1.27773521e-05, 1.24231229e-05, 1.21668868e-05, 1.19528651e-05,\n",
       "       1.18855342e-05, 1.15284610e-05, 1.10924479e-05, 1.08155665e-05,\n",
       "       1.04939838e-05, 1.02345978e-05, 9.78507220e-06, 9.54790234e-06,\n",
       "       9.37045929e-06, 9.13167526e-06, 8.72388732e-06, 8.66562337e-06,\n",
       "       8.54934441e-06, 8.35380142e-06, 8.07312137e-06, 7.86083253e-06,\n",
       "       7.62523656e-06, 7.33138865e-06, 7.17654477e-06, 7.02184581e-06,\n",
       "       6.85028526e-06, 6.81826308e-06, 6.65694107e-06, 6.47980850e-06,\n",
       "       6.43633540e-06, 6.17740071e-06, 6.05148177e-06, 6.02165874e-06,\n",
       "       5.73338938e-06, 5.64816987e-06, 5.56323037e-06, 5.40969073e-06,\n",
       "       5.17791046e-06, 5.11055498e-06, 5.01608286e-06, 4.72371663e-06])"
      ]
     },
     "execution_count": 20,
     "metadata": {},
     "output_type": "execute_result"
    }
   ],
   "source": []
  },
  {
   "cell_type": "code",
   "execution_count": 21,
   "metadata": {},
   "outputs": [
    {
     "data": {
      "text/plain": [
       "array([4.72371663e-06, 5.01608286e-06, 5.11055498e-06, 5.17791046e-06,\n",
       "       5.40969073e-06, 5.56323037e-06, 5.64816987e-06, 5.73338938e-06,\n",
       "       6.02165874e-06, 6.05148177e-06, 6.17740071e-06, 6.43633540e-06,\n",
       "       6.47980850e-06, 6.65694107e-06, 6.81826308e-06, 6.85028526e-06,\n",
       "       7.02184581e-06, 7.17654477e-06, 7.33138865e-06, 7.62523656e-06,\n",
       "       7.86083253e-06, 8.07312137e-06, 8.35380142e-06, 8.54934441e-06,\n",
       "       8.66562337e-06, 8.72388732e-06, 9.13167526e-06, 9.37045929e-06,\n",
       "       9.54790234e-06, 9.78507220e-06, 1.02345978e-05, 1.04939838e-05,\n",
       "       1.08155665e-05, 1.10924479e-05, 1.15284610e-05, 1.18855342e-05,\n",
       "       1.19528651e-05, 1.21668868e-05, 1.24231229e-05, 1.27773521e-05,\n",
       "       1.30784724e-05, 1.33147241e-05, 1.37861544e-05, 1.41180821e-05,\n",
       "       1.45025987e-05, 1.48035400e-05, 1.53477275e-05, 1.55966088e-05,\n",
       "       1.59137805e-05, 1.60126403e-05, 1.65266750e-05, 1.69744350e-05,\n",
       "       1.72073990e-05, 1.73609840e-05, 1.77185460e-05, 1.80799787e-05,\n",
       "       1.84953771e-05, 1.89431540e-05, 1.90618511e-05, 1.93859290e-05,\n",
       "       1.94056851e-05, 1.97444333e-05, 2.04542322e-05, 2.05109955e-05,\n",
       "       2.05926999e-05, 2.13023583e-05, 2.15447132e-05, 2.21559105e-05,\n",
       "       2.23529377e-05, 2.27907171e-05, 2.33170302e-05, 2.35283260e-05,\n",
       "       2.40149328e-05, 2.40772340e-05, 2.50083071e-05, 2.51114481e-05,\n",
       "       2.57978187e-05, 2.59062540e-05, 2.64484698e-05, 2.70695416e-05,\n",
       "       2.73879139e-05, 2.77364625e-05, 2.78962094e-05, 2.81981972e-05,\n",
       "       2.91620498e-05, 2.94974518e-05, 3.00426042e-05, 3.01659817e-05,\n",
       "       3.05620695e-05, 3.09433114e-05, 3.17160135e-05, 3.25751850e-05,\n",
       "       3.32025670e-05, 3.36822305e-05, 3.43749758e-05, 3.55353081e-05,\n",
       "       3.67087912e-05, 3.72305219e-05, 3.81265898e-05, 3.87398477e-05,\n",
       "       3.95948296e-05, 4.07063024e-05, 4.08588220e-05, 4.22160677e-05,\n",
       "       4.27373519e-05, 4.38278844e-05, 4.48996790e-05, 4.63258299e-05,\n",
       "       4.94383985e-05, 5.09026890e-05, 5.28873411e-05, 5.36666895e-05,\n",
       "       5.57416123e-05, 5.84065686e-05, 5.97321849e-05, 6.08225548e-05,\n",
       "       6.20013219e-05, 6.63949599e-05, 6.86650549e-05, 6.98959200e-05,\n",
       "       7.08517622e-05, 7.39613576e-05, 7.79111767e-05, 8.25672011e-05,\n",
       "       8.54593180e-05, 8.57886449e-05, 9.32848961e-05, 9.79176761e-05,\n",
       "       1.05477193e-04, 1.07587022e-04, 1.12150334e-04, 1.22180363e-04,\n",
       "       1.26360672e-04, 1.34948313e-04, 1.53905018e-04, 1.57916638e-04,\n",
       "       1.61945234e-04, 2.09583134e-04, 2.22881701e-04, 2.31474156e-04,\n",
       "       2.59717967e-04, 2.83793360e-04, 3.00879491e-04, 3.10550991e-04,\n",
       "       4.02188504e-04, 4.19183571e-04, 4.71221549e-04, 5.18911647e-04,\n",
       "       6.59946109e-04, 7.64005948e-04, 8.32087180e-04, 9.31375489e-04,\n",
       "       1.34915374e-03, 1.70194562e-03, 2.51092920e-03, 2.61807413e-03,\n",
       "       4.67639325e-03, 6.46422900e-03, 4.20888454e-02, 1.59979250e+02])"
      ]
     },
     "execution_count": 21,
     "metadata": {},
     "output_type": "execute_result"
    }
   ],
   "source": [
    "EigenValues"
   ]
  },
  {
   "cell_type": "code",
   "execution_count": null,
   "metadata": {},
   "outputs": [],
   "source": [
    "# (completed)\n",
    "print('P2:')\n",
    "[V, EigenValues] = icatb_svd(dat, Nt);\n",
    "EigenValues = diag(EigenValues);\n",
    "EigenValues = EigenValues(end:-1:1);"
   ]
  },
  {
   "cell_type": "markdown",
   "metadata": {},
   "source": [
    "***"
   ]
  },
  {
   "cell_type": "code",
   "execution_count": 13,
   "metadata": {},
   "outputs": [],
   "source": [
    "i=0\n",
    "x_single = np.zeros(Nx*Ny*Nz)\n",
    "x_single[maskvec==1] = dataN[:,idx[i]]\n",
    "x_single = np.reshape(x_single,(Nx,Ny,Nz),order='F')\n",
    "\n"
   ]
  },
  {
   "cell_type": "code",
   "execution_count": 14,
   "metadata": {},
   "outputs": [],
   "source": [
    "from scipy.io import loadmat\n",
    "MATLAB_Results = loadmat('./x_single_mat.mat')\n",
    "out_mat = loadmat('./out_mat.mat')['out']\n",
    "MATLAB_X_single = MATLAB_Results['x']"
   ]
  },
  {
   "cell_type": "code",
   "execution_count": 15,
   "metadata": {},
   "outputs": [
    {
     "data": {
      "text/plain": [
       "array([[1.        , 0.99999881],\n",
       "       [0.99999881, 1.        ]])"
      ]
     },
     "execution_count": 15,
     "metadata": {},
     "output_type": "execute_result"
    }
   ],
   "source": [
    "np.corrcoef(np.reshape(x_single,np.prod(x_single.shape),order='F'),np.reshape(MATLAB_X_single,np.prod(MATLAB_X_single.shape),order='F'))"
   ]
  },
  {
   "cell_type": "code",
   "execution_count": 19,
   "metadata": {},
   "outputs": [],
   "source": [
    "import xarray as xr\n",
    "x0 = [0,0,0]\n",
    "x_1d = np.squeeze(x_single[0,0,:])\n",
    "n = x_single.shape\n",
    "s = 0\n",
    "out = x_single[np.arange(x0[0], n[0], s+1),:,:][:,np.arange(x0[1], n[1], s+1),:][:,:,np.arange(x0[2], n[2], s+1)]"
   ]
  },
  {
   "cell_type": "code",
   "execution_count": null,
   "metadata": {},
   "outputs": [],
   "source": []
  },
  {
   "cell_type": "code",
   "execution_count": null,
   "metadata": {},
   "outputs": [],
   "source": []
  },
  {
   "cell_type": "code",
   "execution_count": null,
   "metadata": {},
   "outputs": [],
   "source": []
  },
  {
   "cell_type": "code",
   "execution_count": null,
   "metadata": {},
   "outputs": [],
   "source": []
  },
  {
   "cell_type": "code",
   "execution_count": null,
   "metadata": {},
   "outputs": [],
   "source": []
  },
  {
   "cell_type": "code",
   "execution_count": null,
   "metadata": {},
   "outputs": [],
   "source": [
    "def est_indp_sp(x):\n",
    "    dimv = x.shape\n",
    "    s0 = 0\n",
    "    for j in range(np.min(dimv)-1):\n",
    "        x_sb = subsampling(x,j,[0,0,0]);\n",
    "        if j == 1:\n",
    "            fprintf('\\n Estimating the entropy rate of the Gaussian component with subsampling depth %d,',j);\n",
    "        else\n",
    "            fprintf(' %d,',j);\n",
    "        entrate_m = entrate_sp(x_sb,1);\n",
    "    \n",
    "        ent_ref = 1.41;\n",
    "        if entrate_m > ent_ref:\n",
    "            s0 = j; break;\n",
    "    fprintf(' Done;');\n",
    "    \n",
    "    if s0 == 0:\n",
    "        error('Ill conditioned data, can not estimate independent samples.(est_indp_sp)');\n",
    "    else:\n",
    "        s = s0;\n",
    "    \n",
    "    return s, entrate_m"
   ]
  },
  {
   "cell_type": "code",
   "execution_count": 65,
   "metadata": {},
   "outputs": [
    {
     "data": {
      "text/plain": [
       "12"
      ]
     },
     "execution_count": 65,
     "metadata": {},
     "output_type": "execute_result"
    }
   ],
   "source": [
    "for i in range(ms):\n",
    "    x_single = np.zeros(Nx*Ny*Nz)\n",
    "    x_single[maskvec==1] = dataN[:,idx[i]]\n",
    "    x_single = np.reshape(x_single,(Nx,Ny,Nz),order='F')\n",
    "    s(i) = est_indp_sp(x_single)\n",
    "    if (i > 6):\n",
    "        tmpS = s(1:i);\n",
    "        tmpSMedian = round(median(tmpS));\n",
    "        if (length(find(tmpS == tmpSMedian)) > 6):\n",
    "            s = tmpS;\n",
    "            break\n",
    "    dim_n = np.prod(size(size(x_single)))\n",
    "    del x_single"
   ]
  },
  {
   "cell_type": "code",
   "execution_count": 116,
   "metadata": {},
   "outputs": [],
   "source": [
    "x0 = [0,0,0]\n",
    "x_1d = np.squeeze(x_single[0,0,:])\n",
    "n = x_single.shape\n",
    "s = 0\n",
    "# x[np.arange(x0[0],np.max(n), s+1)] 1D\n",
    "out = x_single[np.arange(x0[0], n[0], s+1),:,:][:,np.arange(x0[1], n[1], s+1),:][:,:,np.arange(x0[2], n[2], s+1)]"
   ]
  },
  {
   "cell_type": "code",
   "execution_count": 150,
   "metadata": {},
   "outputs": [
    {
     "ename": "IndexError",
     "evalue": "shape mismatch: indexing arrays could not be broadcast together with shapes (1,41) (1,52) (1,28) ",
     "output_type": "error",
     "traceback": [
      "\u001b[0;31m---------------------------------------------------------------------------\u001b[0m",
      "\u001b[0;31mIndexError\u001b[0m                                Traceback (most recent call last)",
      "\u001b[0;32m<ipython-input-150-54bb19ff11f0>\u001b[0m in \u001b[0;36m<module>\u001b[0;34m\u001b[0m\n\u001b[0;32m----> 1\u001b[0;31m \u001b[0mx_single\u001b[0m\u001b[0;34m[\u001b[0m\u001b[0;34m[\u001b[0m\u001b[0mnp\u001b[0m\u001b[0;34m.\u001b[0m\u001b[0marange\u001b[0m\u001b[0;34m(\u001b[0m\u001b[0mx0\u001b[0m\u001b[0;34m[\u001b[0m\u001b[0;36m0\u001b[0m\u001b[0;34m]\u001b[0m\u001b[0;34m,\u001b[0m \u001b[0mn\u001b[0m\u001b[0;34m[\u001b[0m\u001b[0;36m0\u001b[0m\u001b[0;34m]\u001b[0m\u001b[0;34m,\u001b[0m \u001b[0ms\u001b[0m\u001b[0;34m+\u001b[0m\u001b[0;36m1\u001b[0m\u001b[0;34m)\u001b[0m\u001b[0;34m]\u001b[0m\u001b[0;34m,\u001b[0m\u001b[0;34m[\u001b[0m\u001b[0mnp\u001b[0m\u001b[0;34m.\u001b[0m\u001b[0marange\u001b[0m\u001b[0;34m(\u001b[0m\u001b[0mx0\u001b[0m\u001b[0;34m[\u001b[0m\u001b[0;36m1\u001b[0m\u001b[0;34m]\u001b[0m\u001b[0;34m,\u001b[0m \u001b[0mn\u001b[0m\u001b[0;34m[\u001b[0m\u001b[0;36m1\u001b[0m\u001b[0;34m]\u001b[0m\u001b[0;34m,\u001b[0m \u001b[0ms\u001b[0m\u001b[0;34m+\u001b[0m\u001b[0;36m1\u001b[0m\u001b[0;34m)\u001b[0m\u001b[0;34m]\u001b[0m\u001b[0;34m,\u001b[0m\u001b[0;34m[\u001b[0m\u001b[0mnp\u001b[0m\u001b[0;34m.\u001b[0m\u001b[0marange\u001b[0m\u001b[0;34m(\u001b[0m\u001b[0mx0\u001b[0m\u001b[0;34m[\u001b[0m\u001b[0;36m2\u001b[0m\u001b[0;34m]\u001b[0m\u001b[0;34m,\u001b[0m \u001b[0mn\u001b[0m\u001b[0;34m[\u001b[0m\u001b[0;36m2\u001b[0m\u001b[0;34m]\u001b[0m\u001b[0;34m,\u001b[0m \u001b[0ms\u001b[0m\u001b[0;34m+\u001b[0m\u001b[0;36m1\u001b[0m\u001b[0;34m)\u001b[0m\u001b[0;34m]\u001b[0m\u001b[0;34m]\u001b[0m\u001b[0;34m\u001b[0m\u001b[0;34m\u001b[0m\u001b[0m\n\u001b[0m",
      "\u001b[0;31mIndexError\u001b[0m: shape mismatch: indexing arrays could not be broadcast together with shapes (1,41) (1,52) (1,28) "
     ]
    }
   ],
   "source": [
    "x_single[[np.arange(x0[0], n[0], s+1)],[np.arange(x0[1], n[1], s+1)],[np.arange(x0[2], n[2], s+1)]]"
   ]
  },
  {
   "cell_type": "code",
   "execution_count": 166,
   "metadata": {},
   "outputs": [],
   "source": [
    "import xarray as xr\n",
    "JAVI = xr.DataArray(x_single,dims=['x','y','z'],coords={'x':np.arange(Nx),'y':np.arange(Ny),'z':np.arange(Nz)}, name='x_single')"
   ]
  },
  {
   "cell_type": "code",
   "execution_count": 176,
   "metadata": {},
   "outputs": [],
   "source": [
    "JAVI_SEL = JAVI.isel(x=np.arange(x0[0], n[0], s+1), y=np.arange(x0[1], n[1], s+1),z=np.arange(x0[2], n[2], s+1))"
   ]
  },
  {
   "cell_type": "code",
   "execution_count": 178,
   "metadata": {},
   "outputs": [
    {
     "data": {
      "text/plain": [
       "array([[ 1.        , -0.00532732],\n",
       "       [-0.00532732,  1.        ]])"
      ]
     },
     "execution_count": 178,
     "metadata": {},
     "output_type": "execute_result"
    }
   ],
   "source": [
    "np.corrcoef(np.reshape(JAVI_SEL.values,np.prod(JAVI_SEL.values.shape),order='F'),np.reshape(out_mat,np.prod(out_mat.shape),order='F'))"
   ]
  },
  {
   "cell_type": "code",
   "execution_count": 182,
   "metadata": {},
   "outputs": [
    {
     "data": {
      "text/plain": [
       "array([[ 1.        , -0.00532732],\n",
       "       [-0.00532732,  1.        ]])"
      ]
     },
     "execution_count": 182,
     "metadata": {},
     "output_type": "execute_result"
    }
   ],
   "source": [
    "np.corrcoef(np.reshape(x_single,np.prod(x_single.shape),order='F'),np.reshape(MATLAB_X_single,np.prod(MATLAB_X_single.shape),order='F'))"
   ]
  },
  {
   "cell_type": "code",
   "execution_count": null,
   "metadata": {},
   "outputs": [],
   "source": []
  },
  {
   "cell_type": "code",
   "execution_count": 123,
   "metadata": {},
   "outputs": [
    {
     "data": {
      "text/plain": [
       "array([[ 1.        , -0.00532732],\n",
       "       [-0.00532732,  1.        ]])"
      ]
     },
     "execution_count": 123,
     "metadata": {},
     "output_type": "execute_result"
    }
   ],
   "source": [
    "np.corrcoef(np.reshape(out,np.prod(out.shape),order='F'),np.reshape(out_mat,np.prod(out_mat.shape),order='F'))"
   ]
  },
  {
   "cell_type": "code",
   "execution_count": 128,
   "metadata": {},
   "outputs": [
    {
     "data": {
      "text/plain": [
       "array([ 0,  1,  2,  3,  4,  5,  6,  7,  8,  9, 10, 11, 12, 13, 14, 15, 16,\n",
       "       17, 18, 19, 20, 21, 22, 23, 24, 25, 26, 27])"
      ]
     },
     "execution_count": 128,
     "metadata": {},
     "output_type": "execute_result"
    }
   ],
   "source": [
    "np.arange(x0[2], n[2], s+1)"
   ]
  },
  {
   "cell_type": "code",
   "execution_count": 113,
   "metadata": {},
   "outputs": [
    {
     "data": {
      "text/plain": [
       "(3, 6, 2)"
      ]
     },
     "execution_count": 113,
     "metadata": {},
     "output_type": "execute_result"
    }
   ],
   "source": [
    "(x_single[np.array([1,2,3]),:,:][:,np.array([5,6,7,8,9,10]),:][:,:,np.array([20,21])]).shape"
   ]
  },
  {
   "cell_type": "code",
   "execution_count": 125,
   "metadata": {},
   "outputs": [
    {
     "data": {
      "text/plain": [
       "0.02060704305768013"
      ]
     },
     "execution_count": 125,
     "metadata": {},
     "output_type": "execute_result"
    }
   ],
   "source": [
    "np.max(out)"
   ]
  },
  {
   "cell_type": "code",
   "execution_count": null,
   "metadata": {},
   "outputs": [],
   "source": []
  },
  {
   "cell_type": "code",
   "execution_count": null,
   "metadata": {},
   "outputs": [],
   "source": []
  },
  {
   "cell_type": "code",
   "execution_count": null,
   "metadata": {},
   "outputs": [],
   "source": []
  },
  {
   "cell_type": "code",
   "execution_count": 179,
   "metadata": {},
   "outputs": [],
   "source": [
    "from scipy.io import loadmat\n",
    "MATLAB_Results = loadmat('./x_single_mat.mat')\n",
    "out_mat = loadmat('./out_mat.mat')['out']"
   ]
  },
  {
   "cell_type": "code",
   "execution_count": 181,
   "metadata": {},
   "outputs": [],
   "source": [
    "MATLAB_X_single = MATLAB_Results['x']"
   ]
  },
  {
   "cell_type": "code",
   "execution_count": 40,
   "metadata": {},
   "outputs": [],
   "source": [
    "MATLAB_dataN = np.loadtxt('./dataN_matlab.txt')"
   ]
  },
  {
   "cell_type": "code",
   "execution_count": 43,
   "metadata": {},
   "outputs": [
    {
     "data": {
      "text/plain": [
       "array([[1.        , 0.99994707],\n",
       "       [0.99994707, 1.        ]])"
      ]
     },
     "execution_count": 43,
     "metadata": {},
     "output_type": "execute_result"
    }
   ],
   "source": [
    "np.corrcoef(np.reshape(dataN,np.prod(dataN.shape),order='F'),np.reshape(MATLAB_dataN,np.prod(MATLAB_dataN.shape),order='F'))"
   ]
  },
  {
   "cell_type": "code",
   "execution_count": 52,
   "metadata": {},
   "outputs": [],
   "source": [
    "# THIS WORKS\n",
    "i=0\n",
    "J_x_single = np.zeros(Nx*Ny*Nz)\n",
    "J_x_single[maskvec==1] = dataN[:,idx[i]]\n",
    "J_x_single = np.reshape(J_x_single,(Nx,Ny,Nz),order='F')"
   ]
  },
  {
   "cell_type": "code",
   "execution_count": 53,
   "metadata": {},
   "outputs": [
    {
     "data": {
      "text/plain": [
       "array([[1.        , 0.99999881],\n",
       "       [0.99999881, 1.        ]])"
      ]
     },
     "execution_count": 53,
     "metadata": {},
     "output_type": "execute_result"
    }
   ],
   "source": [
    "np.corrcoef(np.reshape(MATLAB_X_single,np.prod(MATLAB_X_single.shape),order='F'),np.reshape(J_x_single,np.prod(J_x_single.shape),order='F'))"
   ]
  },
  {
   "cell_type": "code",
   "execution_count": 77,
   "metadata": {},
   "outputs": [
    {
     "data": {
      "text/plain": [
       "(41, 52, 28)"
      ]
     },
     "execution_count": 77,
     "metadata": {},
     "output_type": "execute_result"
    }
   ],
   "source": [
    "x_single.shape"
   ]
  },
  {
   "cell_type": "code",
   "execution_count": null,
   "metadata": {},
   "outputs": [],
   "source": []
  },
  {
   "cell_type": "code",
   "execution_count": 35,
   "metadata": {},
   "outputs": [
    {
     "data": {
      "text/plain": [
       "array([[ 1.        , -0.00532732],\n",
       "       [-0.00532732,  1.        ]])"
      ]
     },
     "execution_count": 35,
     "metadata": {},
     "output_type": "execute_result"
    }
   ],
   "source": []
  },
  {
   "cell_type": "code",
   "execution_count": 49,
   "metadata": {},
   "outputs": [
    {
     "data": {
      "text/plain": [
       "array([  0,   1,   2,   3,  79,  80,  81,  82, 156, 157, 158, 159])"
      ]
     },
     "execution_count": 49,
     "metadata": {},
     "output_type": "execute_result"
    }
   ],
   "source": [
    "np.hstack([j[0:4],j[middle-1:middle+3],j[-4:]])"
   ]
  },
  {
   "cell_type": "code",
   "execution_count": 55,
   "metadata": {},
   "outputs": [
    {
     "data": {
      "text/plain": [
       "array([148, 149, 150, 151, 152, 153, 154, 155, 156, 157, 158, 159])"
      ]
     },
     "execution_count": 55,
     "metadata": {},
     "output_type": "execute_result"
    }
   ],
   "source": [
    "j = np.arange(dfs - minTp, dfs)\n",
    "j"
   ]
  },
  {
   "cell_type": "code",
   "execution_count": 25,
   "metadata": {},
   "outputs": [
    {
     "data": {
      "text/plain": [
       "[5, 6, 3]"
      ]
     },
     "execution_count": 25,
     "metadata": {},
     "output_type": "execute_result"
    }
   ],
   "source": [
    "n = x_single.shape\n",
    "[int(i) for i in np.ceil(np.array(n) / 10)]"
   ]
  },
  {
   "cell_type": "code",
   "execution_count": 21,
   "metadata": {},
   "outputs": [
    {
     "data": {
      "text/plain": [
       "(41, 52, 28)"
      ]
     },
     "execution_count": 21,
     "metadata": {},
     "output_type": "execute_result"
    }
   ],
   "source": []
  },
  {
   "cell_type": "code",
   "execution_count": null,
   "metadata": {},
   "outputs": [],
   "source": []
  }
 ],
 "metadata": {
  "kernelspec": {
   "display_name": "Python 3",
   "language": "python",
   "name": "python3"
  },
  "language_info": {
   "codemirror_mode": {
    "name": "ipython",
    "version": 3
   },
   "file_extension": ".py",
   "mimetype": "text/x-python",
   "name": "python",
   "nbconvert_exporter": "python",
   "pygments_lexer": "ipython3",
   "version": "3.7.4"
  }
 },
 "nbformat": 4,
 "nbformat_minor": 4
}
